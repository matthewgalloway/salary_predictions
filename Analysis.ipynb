{
 "cells": [
  {
   "cell_type": "code",
   "execution_count": null,
   "outputs": [],
   "source": [],
   "metadata": {
    "collapsed": false,
    "pycharm": {
     "name": "#%% To Do\n"
    }
   }
  },
  {
   "cell_type": "code",
   "execution_count": null,
   "outputs": [],
   "source": [
    "# drop with too many NA's\n",
    "# Need to work out which variable are correlated to drop\n",
    "# Need to see if any variables are duplicated\n",
    "# Need to see if any variables are constant for both above and under 50K"
   ],
   "metadata": {
    "collapsed": false,
    "pycharm": {
     "name": "#%% Feature Selection\n"
    }
   }
  },
  {
   "cell_type": "code",
   "execution_count": 1,
   "metadata": {
    "collapsed": true,
    "pycharm": {
     "is_executing": false,
     "name": "#%% Imports \n"
    }
   },
   "outputs": [],
   "source": [
    "import pandas as pd\n",
    "import numpy as np\n",
    "from config import config\n",
    "import matplotlib.pyplot as plt\n",
    "import preprocessors\n",
    "from helpers import get_meta_columns\n",
    "import seaborn as sns\n",
    "from sklearn.pipeline import Pipeline\n",
    "from sklearn.linear_model import LogisticRegression\n",
    "from sklearn.model_selection import train_test_split"
   ]
  },
  {
   "cell_type": "code",
   "execution_count": 2,
   "outputs": [],
   "source": [
    "# Reading in the data\n",
    "data = pd.read_csv(config.TRAIN_DIR, names=get_meta_columns(), na_values=' ?')\n",
    "\n",
    "# encodes the target variable as binary\n",
    "data[config.TARGET] = data[config.TARGET].map(config.TARGET_ENCODING)\n",
    "\n",
    "X_train, X_test, y_train, y_test = train_test_split(\n",
    "        data[config.FEATURES], data[config.TARGET], test_size=0.2, random_state=0\n",
    "        )  \n",
    "\n",
    "income_pipeline = Pipeline(\n",
    "    [\n",
    "        (\n",
    "            \"EncodeNotInUniverse\",\n",
    "            preprocessors.EncodeNotInUniverse(variables=config.DROP_VALS),\n",
    "        ),    \n",
    "        (\n",
    "            \"DropNaFeatures\",\n",
    "            preprocessors.DropNaFeatures(variables=config.DROP_VALS),\n",
    "        ),\n",
    "        (\n",
    "            \"Fill_NA_encoder\",\n",
    "            preprocessors.FillNAEncoder(variables=config.CONTAINS_NAN_VALS),\n",
    "        ),\n",
    "        (\n",
    "            \"categorical_encoder\",\n",
    "            preprocessors.CategoricalEncoder(variables=config.CATEGORICAL_VALS[1:]),\n",
    "        ),\n",
    "         (\n",
    "            \"Ordinal Encoder\",\n",
    "            preprocessors.OrdinalEncoder(variables=config.CATEGORICAL_VALS[0]),\n",
    "        ),       \n",
    "        (\n",
    "            \"Numeric_variable_scalar\", \n",
    "            preprocessors.ScaleNumeric(variables=config.NUMERIC_VALS),\n",
    "        ),\n",
    "    ]\n",
    "        )  \n",
    "\n",
    "X_train_processed =income_pipeline.fit_transform(\n",
    "                                                    X_train[config.FEATURES], y_train)\n",
    "\n",
    "\n"
   ],
   "metadata": {
    "collapsed": false,
    "pycharm": {
     "name": "#%%\n",
     "is_executing": false
    }
   }
  },
  {
   "cell_type": "code",
   "execution_count": 7,
   "outputs": [
    {
     "data": {
      "text/plain": "education                                     0\nmarital stat                                  0\nmajor industry code                           0\nrace                                          0\nhispanic origin                               0\nsex                                           0\nfull or part time employment stat             0\ntax filer stat                                0\ndetailed household and family stat            0\ndetailed household summary in household       0\nlive in this house 1 year ago                 0\ncountry of birth father                    6713\ncountry of birth mother                    6119\ncountry of birth self                      3393\ncitizenship                                   0\ndtype: int64"
     },
     "metadata": {},
     "output_type": "execute_result",
     "execution_count": 7
    }
   ],
   "source": [
    "# ordered by level of education increasing\n",
    "data['education'] = data['education'].map(education_dict)\n",
    "\n",
    "\n",
    "# Numeric values\n",
    "# scales numeric values\n",
    "# no na values in numeric\n",
    "mm_scalar = MinMaxScaler()\n",
    "data[config.NUMERIC_VALS] = mm_scalar.fit_transform(data[config.NUMERIC_VALS])"
   ],
   "metadata": {
    "collapsed": false,
    "pycharm": {
     "name": "#%% Feature Engineering\n",
     "is_executing": false
    }
   }
  },
  {
   "cell_type": "code",
   "execution_count": 3,
   "outputs": [],
   "source": [
    "def analysis_categoricial(df, var):\n",
    "    ploting_df = pd.DataFrame(data=df[['Income',var]].value_counts())\n",
    "    ploting_df = ploting_df.reset_index()\n",
    "    sns.catplot(x=var,y=0,hue='Income', data = ploting_df, kind='bar')\n",
    "    plt.show()\n",
    "\n",
    "for var in config.CATEGORICAL_VALS:\n",
    "    analysis_categoricial(data, var)\n",
    "\n",
    "# Cardinality check\n",
    "for var in config.CATEGORICAL_VALS:\n",
    "    print(var, len(data[var].unique()))"
   ],
   "metadata": {
    "collapsed": false,
    "pycharm": {
     "name": "#%% Visualisation steps\n",
     "is_executing": false
    }
   }
  },
  {
   "cell_type": "code",
   "execution_count": 57,
   "outputs": [
    {
     "name": "stdout",
     "text": [
      "education 17\n",
      "marital stat 7\n",
      "major industry code 24\n",
      "race 5\n",
      "hispanic origin 10\n",
      "sex 2\n",
      "full or part time employment stat 8\n",
      "tax filer stat 6\n",
      "detailed household and family stat 38\n",
      "detailed household summary in household 8\n",
      "live in this house 1 year ago 3\n",
      "country of birth father 43\n",
      "country of birth mother 43\n",
      "country of birth self 43\n",
      "citizenship 5\n"
     ],
     "output_type": "stream"
    }
   ],
   "source": [
    "\n",
    "\n",
    "\n"
   ],
   "metadata": {
    "collapsed": false,
    "pycharm": {
     "name": "#%%\n",
     "is_executing": false
    }
   }
  }
 ],
 "metadata": {
  "kernelspec": {
   "display_name": "Python 3",
   "language": "python",
   "name": "python3"
  },
  "language_info": {
   "codemirror_mode": {
    "name": "ipython",
    "version": 2
   },
   "file_extension": ".py",
   "mimetype": "text/x-python",
   "name": "python",
   "nbconvert_exporter": "python",
   "pygments_lexer": "ipython2",
   "version": "2.7.6"
  },
  "pycharm": {
   "stem_cell": {
    "cell_type": "raw",
    "source": [],
    "metadata": {
     "collapsed": false
    }
   }
  }
 },
 "nbformat": 4,
 "nbformat_minor": 0
}