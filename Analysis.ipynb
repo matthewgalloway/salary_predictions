{
 "cells": [
  {
   "cell_type": "code",
   "execution_count": 1,
   "metadata": {
    "collapsed": true,
    "pycharm": {
     "is_executing": false,
     "name": "#%% Imports \n"
    }
   },
   "outputs": [],
   "source": [
    "import pandas as pd\n",
    "from config import config\n",
    "import numpy as np\n",
    "import matplotlib.pyplot as plt\n",
    "from pipeline import visualisation_pipeline\n",
    "from pipeline import rf_pipeline, lr_pipeline, sm_rf_pipeline, sm_lr_pipeline\n",
    "from helpers import get_meta_columns, plot_categoricial, plot_discrete, plot_continuous\n",
    "import seaborn as sns\n",
    "from sklearn.model_selection import train_test_split, GridSearchCV\n",
    "from sklearn.metrics import accuracy_score, confusion_matrix, f1_score, recall_score"
   ]
  },
  {
   "cell_type": "code",
   "execution_count": 5,
   "outputs": [],
   "source": [
    "def get_data(mode='train'):\n",
    "    \"\"\"gets the training or testing data\n",
    "    encodes the target variable to binary\n",
    "    returns: DataFrame\n",
    "    \"\"\"\n",
    "    # reads in the data\n",
    "    if mode == 'train':\n",
    "        df = pd.read_csv(config.TRAIN_DIR, names=get_meta_columns(), na_values=' ?')\n",
    "    else:\n",
    "        df = pd.read_csv(config.TEST_DIR, names=get_meta_columns(), na_values=' ?')\n",
    "        \n",
    "    # encodes the target variable as binary\n",
    "    df[config.TARGET] = df[config.TARGET].map(config.TARGET_ENCODING)\n",
    "    \n",
    "    return df\n",
    "\n",
    "data = get_data()\n",
    " \n",
    "# splits the data in to a training and validation set\n",
    "X_train, X_test, y_train, y_test = train_test_split(\n",
    "         data[config.FEATURES], data[config.TARGET], test_size=0.2, random_state=0\n",
    "         )  "
   ],
   "metadata": {
    "collapsed": false,
    "pycharm": {
     "name": "#%% Setting up data\n",
     "is_executing": false
    }
   }
  },
  {
   "cell_type": "code",
   "execution_count": null,
   "outputs": [],
   "source": [
    "def run_visualisation(X_train, y_train):\n",
    "    \"\"\"Plots the visualisations\n",
    "    uses a visualisation pipeline to preprocess the data\n",
    "    visualisation pipeline: \n",
    "        Encodes NA values,\n",
    "        Removes duplicate columns\n",
    "        Performs Feature Engineering,\n",
    "        Ordinal encoding for Categorical variables\n",
    "    returns: None\n",
    "    \"\"\"\n",
    "    sns.set_style(\"whitegrid\")\n",
    "    x_train_processed = visualisation_pipeline.fit_transform(X_train[config.FEATURES], y_train)\n",
    "    plotting_df = pd.DataFrame(pd.concat([x_train_processed, y_train], axis=1))\n",
    "    \n",
    "    print('----Categorical Variables -----')\n",
    "    for var in config.VIS_CATEGORICAL_VALS:\n",
    "        if var not in config.CATEGORICAL_VALS_NOT_PLOTTED:\n",
    "            plot_categoricial(plotting_df, var)\n",
    "            \n",
    "    print('----Discrete Variables -----')\n",
    "    for var in config.DISCRETE_NUMERIC_VARS:\n",
    "        if var not in config.DISCRETE_NOT_PLOTTED:\n",
    "            plot_discrete(plotting_df, var)\n",
    "            \n",
    "    print('----Continuous Variables -----')\n",
    "    for var in config.CONTINUOUS_NUMERIC_VARS:\n",
    "        plot_continuous(plotting_df, var)\n",
    "\n",
    "run_visualisation(X_train, y_train)"
   ],
   "metadata": {
    "collapsed": false,
    "pycharm": {
     "name": "#%% Visualisations\n"
    }
   }
  },
  {
   "cell_type": "code",
   "execution_count": 4,
   "outputs": [
    {
     "name": "stdout",
     "text": [
      "                       Model  Accuracy  F1_Score  Recall_Score\n",
      "0              Random_Forest  0.955169  0.536649      0.427569\n",
      "1        Smote_Random_Forest  0.946999  0.565083      0.567066\n",
      "2        Logistic Regression  0.950357  0.460071      0.348329\n",
      "3  Smote_Logistic_Regression  0.846160  0.407490      0.871234\n"
     ],
     "output_type": "stream"
    }
   ],
   "source": [
    "def train_models( X_train, X_test, y_train, y_test):\n",
    "    \"\"\"Trains the models using sklearn pipelines\n",
    "    Preprocessing steps shared by all pipelines are:\n",
    "        1. Encode Not in universe as np.NAN\n",
    "        2. Fill NA's with \"missing\"\n",
    "        3. Encode Categorical as ordinal\n",
    "        4. Encode education using feature engineering\n",
    "        5. log transform skewed numeric variables\n",
    "        6. Normalises all variable using min max\n",
    "    Variability in resampling methods:\n",
    "        1. No method\n",
    "        2. SMOTE (Synthetic \n",
    "    returns: Dict, DataFrame\n",
    "    \"\"\"\t\n",
    "    models = {\n",
    "        'Random_Forest': rf_pipeline,\n",
    "        'Smote_Random_Forest': sm_rf_pipeline,\n",
    "        'Logistic Regression': lr_pipeline,\n",
    "        'Smote_Logistic_Regression': sm_lr_pipeline\n",
    "        }\n",
    "    \n",
    "\tresults = {\n",
    "\t\t'Model': [],\n",
    "\t\t'Accuracy': [],\n",
    "\t\t'F1_Score': [],\n",
    "\t\t'Recall_Score': []\n",
    "\t}\n",
    "\n",
    "\tfor key in models:\n",
    "\t\tmodels[key].fit(X_train, y_train)\n",
    "\t\ty_pred = models[key].predict(X_test)\n",
    "\t\tresults['Model'].append(key)\n",
    "\t\tresults['Accuracy'].append(accuracy_score(y_test, y_pred))\n",
    "\t\tresults['F1_Score'].append(f1_score(y_test, y_pred))\n",
    "\t\tresults['Recall_Score'].append(recall_score(y_test, y_pred))\n",
    "\n",
    "\tprint(pd.DataFrame(results))\n",
    "\treturn models, results\n",
    "\n",
    "\n",
    "\n",
    "models, results = train_models(X_train, X_test, y_train, y_test)"
   ],
   "metadata": {
    "collapsed": false,
    "pycharm": {
     "name": "#%% Model Training\n",
     "is_executing": false
    }
   }
  },
  {
   "cell_type": "code",
   "execution_count": null,
   "outputs": [],
   "source": [
    "\n",
    "test_data = get_data(mode='test')\n",
    "\n",
    "\n",
    " \n",
    "\n"
   ],
   "metadata": {
    "collapsed": false,
    "pycharm": {
     "name": "#%% Best model\n"
    }
   }
  }
 ],
 "metadata": {
  "kernelspec": {
   "display_name": "Python 3",
   "language": "python",
   "name": "python3"
  },
  "language_info": {
   "codemirror_mode": {
    "name": "ipython",
    "version": 2
   },
   "file_extension": ".py",
   "mimetype": "text/x-python",
   "name": "python",
   "nbconvert_exporter": "python",
   "pygments_lexer": "ipython2",
   "version": "2.7.6"
  },
  "pycharm": {
   "stem_cell": {
    "cell_type": "raw",
    "source": [],
    "metadata": {
     "collapsed": false
    }
   }
  }
 },
 "nbformat": 4,
 "nbformat_minor": 0
}