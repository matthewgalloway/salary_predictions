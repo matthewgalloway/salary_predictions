{
 "cells": [
  {
   "cell_type": "code",
   "execution_count": 1,
   "outputs": [],
   "source": [
    "# Find a better way to deal with NA's\n",
    "# Need to work out which variable are correlated to drop\n",
    "# Need to see if any variables are constant for both above and under 50K\n",
    "# how are you dealing with class imbalance"
   ],
   "metadata": {
    "collapsed": false,
    "pycharm": {
     "name": "#%% To Do\n",
     "is_executing": false
    }
   }
  },
  {
   "cell_type": "code",
   "execution_count": 1,
   "metadata": {
    "collapsed": true,
    "pycharm": {
     "is_executing": false,
     "name": "#%% Imports \n"
    }
   },
   "outputs": [],
   "source": [
    "import pandas as pd\n",
    "from config import config\n",
    "import numpy as np\n",
    "import matplotlib.pyplot as plt\n",
    "from pipeline import visualisation_pipeline\n",
    "from pipeline import rf_pipeline, lr_pipeline, sm_rf_pipeline, sm_lr_pipeline\n",
    "from helpers import get_meta_columns, plot_categoricial, plot_discrete, plot_continuous, train_models\n",
    "import seaborn as sns\n",
    "from sklearn.model_selection import train_test_split, GridSearchCV\n",
    "from sklearn.metrics import accuracy_score, confusion_matrix, f1_score, recall_score"
   ]
  },
  {
   "cell_type": "code",
   "execution_count": 2,
   "outputs": [],
   "source": [
    "def get_data():\n",
    "    df = pd.read_csv(config.TRAIN_DIR, names=get_meta_columns(), na_values=' ?')\n",
    "    # encodes the target variable as binary\n",
    "    df[config.TARGET] = df[config.TARGET].map(config.TARGET_ENCODING)\n",
    "    \n",
    "    return df\n",
    "\n",
    "data = get_data()\n",
    " \n",
    "X_train, X_test, y_train, y_test = train_test_split(\n",
    "         data[config.FEATURES], data[config.TARGET], test_size=0.2, random_state=0\n",
    "         )  "
   ],
   "metadata": {
    "collapsed": false,
    "pycharm": {
     "name": "#%% Reading in the data\n",
     "is_executing": false
    }
   }
  },
  {
   "cell_type": "code",
   "execution_count": null,
   "outputs": [],
   "source": [
    "def run_visualisation(X_train, y_train):\n",
    "    \n",
    "    x_train_processed = visualisation_pipeline.fit_transform(X_train[config.FEATURES], y_train)\n",
    "    plotting_df = pd.DataFrame(pd.concat([x_train_processed, y_train], axis=1))\n",
    "    \n",
    "    for var in config.CATEGORICAL_VALS:\n",
    "        if var not in config.CATEGORICAL_VALS_NOT_PLOTTED:\n",
    "            plot_categoricial(plotting_df, var)\n",
    "\n",
    "    for var in config.DISCRETE_NUMERIC_VARS:\n",
    "        if var not in config.DISCRETE_NOT_PLOTTED:\n",
    "            plot_discrete(plotting_df, var)\n",
    "    \n",
    "    for var in config.CONTINUOUS_NUMERIC_VARS:\n",
    "        plot_continuous(plotting_df, var)\n",
    "\n",
    "run_visualisation(X_train, y_train)"
   ],
   "metadata": {
    "collapsed": false,
    "pycharm": {
     "name": "#%% Visualisation steps\n"
    }
   }
  },
  {
   "cell_type": "code",
   "execution_count": null,
   "outputs": [
    {
     "name": "stdout",
     "text": [
      "Pipeline(steps=[('EncodeNotInUniverse',\n",
      "                 EncodeNotInUniverse(variables=['age', 'class of worker',\n",
      "                                                'detailed industry recode',\n",
      "                                                'detailed occupation recode',\n",
      "                                                'education', 'wage per hour',\n",
      "                                                'enroll in edu inst last wk',\n",
      "                                                'marital stat',\n",
      "                                                'major industry code',\n",
      "                                                'major occupation code', 'race',\n",
      "                                                'hispanic origin', 'sex',\n",
      "                                                'member of a labor union',\n",
      "                                                'reason for unemployment',\n",
      "                                                'full or part time employmen...\n",
      "                ('categorical_variable_scalar',\n",
      "                 OrdinalEncoder(variables=['education', 'sex', 'race',\n",
      "                                           'marital stat', 'hispanic origin',\n",
      "                                           'detailed household summary in '\n",
      "                                           'household',\n",
      "                                           'citizenship',\n",
      "                                           'live in this house 1 year ago',\n",
      "                                           'state of previous residence',\n",
      "                                           'migration code-move within reg',\n",
      "                                           'member of a labor union',\n",
      "                                           'full or part time employment stat',\n",
      "                                           'tax filer stat'])),\n",
      "                ('rf', RandomForestClassifier(random_state=0))])\n",
      "Pipeline(steps=[('EncodeNotInUniverse',\n",
      "                 EncodeNotInUniverse(variables=['age', 'class of worker',\n",
      "                                                'detailed industry recode',\n",
      "                                                'detailed occupation recode',\n",
      "                                                'education', 'wage per hour',\n",
      "                                                'enroll in edu inst last wk',\n",
      "                                                'marital stat',\n",
      "                                                'major industry code',\n",
      "                                                'major occupation code', 'race',\n",
      "                                                'hispanic origin', 'sex',\n",
      "                                                'member of a labor union',\n",
      "                                                'reason for unemployment',\n",
      "                                                'full or part time employmen...\n",
      "                 OrdinalEncoder(variables=['education', 'sex', 'race',\n",
      "                                           'marital stat', 'hispanic origin',\n",
      "                                           'detailed household summary in '\n",
      "                                           'household',\n",
      "                                           'citizenship',\n",
      "                                           'live in this house 1 year ago',\n",
      "                                           'state of previous residence',\n",
      "                                           'migration code-move within reg',\n",
      "                                           'member of a labor union',\n",
      "                                           'full or part time employment stat',\n",
      "                                           'tax filer stat'])),\n",
      "                ('smote', SMOTE(random_state=0)),\n",
      "                ('rf', RandomForestClassifier(random_state=0))])\n"
     ],
     "output_type": "stream"
    }
   ],
   "source": [
    "models = {\n",
    "\t'Random_Forest': rf_pipeline,\n",
    "\t'Smote_Random_Forest': sm_rf_pipeline,\n",
    "\t'Logistic Regression': lr_pipeline,\n",
    "\t'Smote_Logistic_Regression': sm_lr_pipeline\n",
    "    }\n",
    "\n",
    "models = train_models(models, X_train, X_test, y_train, y_test)\n",
    "\n"
   ],
   "metadata": {
    "collapsed": false,
    "pycharm": {
     "name": "#%%\n",
     "is_executing": true
    }
   }
  },
  {
   "cell_type": "code",
   "execution_count": null,
   "outputs": [],
   "source": [
    "\n",
    "\n",
    "param_range = [1, 2, 3, 4, 5, 6, 7, 8, 9, 10]\n",
    "param_range_fl = [1.0, 0.5, 0.1]\n",
    "\n",
    "grid_params_lr = [{'lr__penalty': ['l1', 'l2'],\n",
    "\t\t'lr__C': param_range_fl,\n",
    "\t\t'lr__solver': ['liblinear']}] \n",
    "\n",
    "grid_params_rf = [{'rf__criterion': ['gini', 'entropy'],\n",
    "\t\t'rf__min_samples_leaf': param_range,\n",
    "\t\t'rf__max_depth': param_range,\n",
    "\t\t'rf__min_samples_split': param_range[1:]}]\n",
    "\n",
    "rf_grid_s = GridSearchCV(\n",
    "    estimator=rf_pipeline,\n",
    "    param_grid=grid_params_rf,\n",
    "    scoring='accuracy',\n",
    "    cv=5, \n",
    "    n_jobs=-1)\n",
    "\n",
    "lr_grid_s = GridSearchCV(\n",
    "    estimator=lr_pipeline,\n",
    "    param_grid=grid_params_lr,\n",
    "    scoring='accuracy',\n",
    "    cv=5,\n",
    "    n_jobs=-1) \n",
    "\n",
    "\n",
    " \n"
   ],
   "metadata": {
    "collapsed": false,
    "pycharm": {
     "name": "#%% HyperParameter Tunig\n"
    }
   }
  },
  {
   "cell_type": "code",
   "execution_count": 11,
   "outputs": [
    {
     "data": {
      "text/plain": "   Accuracy  F1_Score  Recall_Score\n0  0.946999  0.565083      0.567066\n1  0.955169  0.536649      0.427569\n2  0.950357  0.460071      0.348329\n3  0.846160  0.407490      0.871234",
      "text/html": "<div>\n<style scoped>\n    .dataframe tbody tr th:only-of-type {\n        vertical-align: middle;\n    }\n\n    .dataframe tbody tr th {\n        vertical-align: top;\n    }\n\n    .dataframe thead th {\n        text-align: right;\n    }\n</style>\n<table border=\"1\" class=\"dataframe\">\n  <thead>\n    <tr style=\"text-align: right;\">\n      <th></th>\n      <th>Accuracy</th>\n      <th>F1_Score</th>\n      <th>Recall_Score</th>\n    </tr>\n  </thead>\n  <tbody>\n    <tr>\n      <th>0</th>\n      <td>0.946999</td>\n      <td>0.565083</td>\n      <td>0.567066</td>\n    </tr>\n    <tr>\n      <th>1</th>\n      <td>0.955169</td>\n      <td>0.536649</td>\n      <td>0.427569</td>\n    </tr>\n    <tr>\n      <th>2</th>\n      <td>0.950357</td>\n      <td>0.460071</td>\n      <td>0.348329</td>\n    </tr>\n    <tr>\n      <th>3</th>\n      <td>0.846160</td>\n      <td>0.407490</td>\n      <td>0.871234</td>\n    </tr>\n  </tbody>\n</table>\n</div>"
     },
     "metadata": {},
     "output_type": "execute_result",
     "execution_count": 11
    }
   ],
   "source": [
    "pd.DataFrame(results)"
   ],
   "metadata": {
    "collapsed": false,
    "pycharm": {
     "name": "#%%\n",
     "is_executing": false
    }
   }
  },
  {
   "cell_type": "code",
   "execution_count": null,
   "outputs": [],
   "source": [
    "\n"
   ],
   "metadata": {
    "collapsed": false,
    "pycharm": {
     "name": "#%%\n"
    }
   }
  }
 ],
 "metadata": {
  "kernelspec": {
   "display_name": "Python 3",
   "language": "python",
   "name": "python3"
  },
  "language_info": {
   "codemirror_mode": {
    "name": "ipython",
    "version": 2
   },
   "file_extension": ".py",
   "mimetype": "text/x-python",
   "name": "python",
   "nbconvert_exporter": "python",
   "pygments_lexer": "ipython2",
   "version": "2.7.6"
  },
  "pycharm": {
   "stem_cell": {
    "cell_type": "raw",
    "source": [],
    "metadata": {
     "collapsed": false
    }
   }
  }
 },
 "nbformat": 4,
 "nbformat_minor": 0
}